{
 "cells": [
  {
   "cell_type": "code",
   "execution_count": null,
   "id": "e1897d5f-a76a-464b-a688-3bcc08d65b7b",
   "metadata": {},
   "outputs": [],
   "source": [
    "name: hassan ali \n",
    "roll no. : 2022_SE_23\n",
    "Batch: 2022_26"
   ]
  },
  {
   "cell_type": "code",
   "execution_count": 3,
   "id": "e3e8cbdf-e7c9-475f-80fe-ea4b0301cb35",
   "metadata": {},
   "outputs": [
    {
     "name": "stdout",
     "output_type": "stream",
     "text": [
      "Collecting PyPDF2\n",
      "  Downloading pypdf2-3.0.1-py3-none-any.whl.metadata (6.8 kB)\n",
      "Downloading pypdf2-3.0.1-py3-none-any.whl (232 kB)\n",
      "Installing collected packages: PyPDF2\n",
      "Successfully installed PyPDF2-3.0.1\n"
     ]
    }
   ],
   "source": [
    "!pip install PyPDF2\n",
    "\n"
   ]
  },
  {
   "cell_type": "code",
   "execution_count": null,
   "id": "bb354f49-1f31-4bb4-89c2-a8b2ff6030d6",
   "metadata": {},
   "outputs": [],
   "source": []
  },
  {
   "cell_type": "code",
   "execution_count": 5,
   "id": "f7d2bc01-7da0-450b-8ec5-eaa7428dbd57",
   "metadata": {},
   "outputs": [
    {
     "name": "stdout",
     "output_type": "stream",
     "text": [
      "NLP stands for Natural Language Processing\n"
     ]
    }
   ],
   "source": [
    "abbr = 'NLP'\n",
    "full_text = 'Natural Language Processing'\n",
    "print(f\"{abbr} stands for {full_text}\")\n"
   ]
  },
  {
   "cell_type": "code",
   "execution_count": 17,
   "id": "cd0baa25-86ec-464f-8355-f928cc9a99a6",
   "metadata": {},
   "outputs": [],
   "source": [
    "with open(\"contacts.txt\", \"w\") as file:\n",
    "    file.write(\"Name       : Hassan Ali\\n\")\n",
    "    file.write(\"Email      : hassanmunir083@gmail.com\\n\")\n",
    "    file.write(\"Phone      : 03160975229\\n\")\n"
   ]
  },
  {
   "cell_type": "code",
   "execution_count": 19,
   "id": "c9f3940f-7992-4c2c-a1b0-84d063642ec4",
   "metadata": {},
   "outputs": [
    {
     "name": "stdout",
     "output_type": "stream",
     "text": [
      "Fields content:\n",
      " Name       : Hassan Ali\n",
      "Email      : hassanmunir083@gmail.com\n",
      "Phone      : 03160975229\n",
      "\n"
     ]
    }
   ],
   "source": [
    "with open(\"contacts.txt\", \"r\") as file:\n",
    "    fields = file.read()\n",
    "\n",
    "# Check the string\n",
    "print(\"Fields content:\\n\", fields)\n"
   ]
  },
  {
   "cell_type": "code",
   "execution_count": 11,
   "id": "dd608a46-1b0d-41bf-b52a-96b341f7ccaa",
   "metadata": {},
   "outputs": [
    {
     "name": "stdout",
     "output_type": "stream",
     "text": [
      "Text from page 2:\n",
      " AUTHORS:  \n",
      "Amy Baker, Finance Chair, x345, abaker@ourcompany.com  \n",
      "Chris Donaldson, Accounting Dir., x621, cdonaldson@ourcompany.com  \n",
      "Erin Freeman, Sr. VP, x879, efreeman@ourcompany.com  \n"
     ]
    }
   ],
   "source": [
    "from PyPDF2 import PdfReader\n",
    "\n",
    "reader = PdfReader(\"Business_Proposal.pdf\")  # Replace with your PDF file\n",
    "page2_text = reader.pages[1].extract_text()  # Page index starts at 0\n",
    "\n",
    "print(\"Text from page 2:\\n\", page2_text)\n"
   ]
  },
  {
   "cell_type": "code",
   "execution_count": 13,
   "id": "3d33d757-d501-4508-897f-0e5c00d7ab40",
   "metadata": {},
   "outputs": [],
   "source": [
    "with open(\"contacts.txt\", \"a\") as file:\n",
    "    file.write(\"\\n--- Page 2 from PDF ---\\n\")\n",
    "    file.write(page2_text)\n"
   ]
  },
  {
   "cell_type": "code",
   "execution_count": 15,
   "id": "a7e8556a-56d6-4bd8-9365-7560a66b3d41",
   "metadata": {},
   "outputs": [
    {
     "name": "stdout",
     "output_type": "stream",
     "text": [
      "\n",
      "--- Updated contacts.txt ---\n",
      "Name, Email, Phone\n",
      " Hassan Ali, hassanmunir083@gmail.com, 03160975229\n",
      "\n",
      "--- Page 2 from PDF ---\n",
      "AUTHORS:  \n",
      "Amy Baker, Finance Chair, x345, abaker@ourcompany.com  \n",
      "Chris Donaldson, Accounting Dir., x621, cdonaldson@ourcompany.com  \n",
      "Erin Freeman, Sr. VP, x879, efreeman@ourcompany.com  \n"
     ]
    }
   ],
   "source": [
    "\n",
    "with open(\"contacts.txt\", \"r\") as file:\n",
    "    updated_fields = file.read()\n",
    "\n",
    "print(\"\\n--- Updated contacts.txt ---\")\n",
    "print(updated_fields)\n"
   ]
  },
  {
   "cell_type": "code",
   "execution_count": null,
   "id": "b06582d7-24de-4bee-b675-f201b6faff82",
   "metadata": {},
   "outputs": [],
   "source": []
  }
 ],
 "metadata": {
  "kernelspec": {
   "display_name": "Python 3 (ipykernel)",
   "language": "python",
   "name": "python3"
  },
  "language_info": {
   "codemirror_mode": {
    "name": "ipython",
    "version": 3
   },
   "file_extension": ".py",
   "mimetype": "text/x-python",
   "name": "python",
   "nbconvert_exporter": "python",
   "pygments_lexer": "ipython3",
   "version": "3.12.7"
  }
 },
 "nbformat": 4,
 "nbformat_minor": 5
}
