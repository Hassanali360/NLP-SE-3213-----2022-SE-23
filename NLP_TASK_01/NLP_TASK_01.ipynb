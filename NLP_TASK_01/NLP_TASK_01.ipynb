{
 "cells": [
  {
   "cell_type": "code",
   "execution_count": 105,
   "id": "b5bd3b8f-f262-47a5-9b26-903fb266d21e",
   "metadata": {},
   "outputs": [],
   "source": [
    "import nltk"
   ]
  },
  {
   "cell_type": "code",
   "execution_count": 91,
   "id": "b0d90ddc-f2e4-4078-a1a3-d2b1bbea0ac5",
   "metadata": {},
   "outputs": [],
   "source": [
    "import nltk\n",
    "from nltk.tokenize import word_tokenize\n",
    "from nltk.corpus import stopwords\n",
    "from nltk.stem import PorterStemmer, WordNetLemmatizer"
   ]
  },
  {
   "cell_type": "code",
   "execution_count": 77,
   "id": "e2e27cd3-3345-4d4b-a0d2-021b2a52e901",
   "metadata": {},
   "outputs": [],
   "source": [
    "text = \"Natural Language Processing with Python provides a practical introduction to programming for language processing. Written by the creators of NLTK, it guides the reader through the fundamentals of writing Python programs, working with corpora, categorizing text, analyzing linguistic structure, and more. The online version of the book has been been updated for Python 3 and NLTK 3. (The original Python 2 version is still available at https://www.nltk.org/book_1ed.)\""
   ]
  },
  {
   "cell_type": "code",
   "execution_count": 81,
   "id": "9656b16e-9b23-4d77-82fa-45e73e4fb8b8",
   "metadata": {},
   "outputs": [
    {
     "name": "stdout",
     "output_type": "stream",
     "text": [
      "Tokens: ['Natural', 'Language', 'Processing', 'with', 'Python', 'provides', 'a', 'practical', 'introduction', 'to', 'programming', 'for', 'language', 'processing', '.', 'Written', 'by', 'the', 'creators', 'of', 'NLTK', ',', 'it', 'guides', 'the', 'reader', 'through', 'the', 'fundamentals', 'of', 'writing', 'Python', 'programs', ',', 'working', 'with', 'corpora', ',', 'categorizing', 'text', ',', 'analyzing', 'linguistic', 'structure', ',', 'and', 'more', '.', 'The', 'online', 'version', 'of', 'the', 'book', 'has', 'been', 'been', 'updated', 'for', 'Python', '3', 'and', 'NLTK', '3', '.', '(', 'The', 'original', 'Python', '2', 'version', 'is', 'still', 'available', 'at', 'https', ':', '//www.nltk.org/book_1ed', '.', ')']\n"
     ]
    }
   ],
   "source": [
    "tokens = word_tokenize(text) \n",
    "print(\"Tokens:\", tokens)"
   ]
  },
  {
   "cell_type": "code",
   "execution_count": 85,
   "id": "a13f8097-85c7-42d0-8f0c-93925d989cdc",
   "metadata": {},
   "outputs": [
    {
     "name": "stdout",
     "output_type": "stream",
     "text": [
      "Without Stopwords: ['Natural', 'Language', 'Processing', 'Python', 'provides', 'practical', 'introduction', 'programming', 'language', 'processing', 'Written', 'creators', 'NLTK', 'guides', 'reader', 'fundamentals', 'writing', 'Python', 'programs', 'working', 'corpora', 'categorizing', 'text', 'analyzing', 'linguistic', 'structure', 'online', 'version', 'book', 'updated', 'Python', 'NLTK', 'original', 'Python', 'version', 'still', 'available', 'https']\n"
     ]
    }
   ],
   "source": [
    "stop_words = set(stopwords.words('english'))\n",
    "filtered_tokens = [word for word in tokens if word.lower() not in stop_words and word.isalpha()]\n",
    "print(\"Without Stopwords:\", filtered_tokens)\n"
   ]
  },
  {
   "cell_type": "code",
   "execution_count": 87,
   "id": "11c4fd75-8786-417b-89e1-3728c323a110",
   "metadata": {},
   "outputs": [
    {
     "name": "stdout",
     "output_type": "stream",
     "text": [
      "Stemmed: ['natur', 'languag', 'process', 'python', 'provid', 'practic', 'introduct', 'program', 'languag', 'process', 'written', 'creator', 'nltk', 'guid', 'reader', 'fundament', 'write', 'python', 'program', 'work', 'corpora', 'categor', 'text', 'analyz', 'linguist', 'structur', 'onlin', 'version', 'book', 'updat', 'python', 'nltk', 'origin', 'python', 'version', 'still', 'avail', 'http']\n"
     ]
    }
   ],
   "source": [
    "stemmer = PorterStemmer()\n",
    "stemmed = [stemmer.stem(word) for word in filtered_tokens]\n",
    "print(\"Stemmed:\", stemmed)"
   ]
  },
  {
   "cell_type": "code",
   "execution_count": null,
   "id": "a189d92a-fb2f-4f9e-b51b-08a0ba0d1fb5",
   "metadata": {},
   "outputs": [],
   "source": []
  },
  {
   "cell_type": "code",
   "execution_count": null,
   "id": "c64ec24c-a5d2-4528-82c8-f849f51f746d",
   "metadata": {},
   "outputs": [],
   "source": []
  }
 ],
 "metadata": {
  "kernelspec": {
   "display_name": "Python 3 (ipykernel)",
   "language": "python",
   "name": "python3"
  },
  "language_info": {
   "codemirror_mode": {
    "name": "ipython",
    "version": 3
   },
   "file_extension": ".py",
   "mimetype": "text/x-python",
   "name": "python",
   "nbconvert_exporter": "python",
   "pygments_lexer": "ipython3",
   "version": "3.12.7"
  }
 },
 "nbformat": 4,
 "nbformat_minor": 5
}
